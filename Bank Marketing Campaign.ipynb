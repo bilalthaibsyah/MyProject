{
 "cells": [
  {
   "cell_type": "code",
   "execution_count": 1,
   "metadata": {},
   "outputs": [],
   "source": [
    "import pandas as pd\n",
    "import numpy as np\n",
    "import matplotlib.pyplot as plt\n",
    "import seaborn as sns"
   ]
  },
  {
   "cell_type": "markdown",
   "metadata": {},
   "source": [
    "Data source: Kaggle"
   ]
  },
  {
   "cell_type": "markdown",
   "metadata": {},
   "source": [
    "[Moro et al., 2014] S. Moro, P. Cortez and P. Rita. A Data-Driven Approach to Predict the Success of Bank Telemarketing. Decision Support Systems, Elsevier, 62:22-31, June 2014"
   ]
  },
  {
   "cell_type": "markdown",
   "metadata": {},
   "source": [
    "#### Today we're gonna do analysis for bank marketing campaign. Our main objective is to find the solution for effective marketing campaign in banking industries. Let's see our data."
   ]
  },
  {
   "cell_type": "code",
   "execution_count": 3,
   "metadata": {},
   "outputs": [],
   "source": [
    "df= pd.read_csv('bank.csv')"
   ]
  },
  {
   "cell_type": "code",
   "execution_count": 4,
   "metadata": {},
   "outputs": [
    {
     "data": {
      "text/html": [
       "<div>\n",
       "<style scoped>\n",
       "    .dataframe tbody tr th:only-of-type {\n",
       "        vertical-align: middle;\n",
       "    }\n",
       "\n",
       "    .dataframe tbody tr th {\n",
       "        vertical-align: top;\n",
       "    }\n",
       "\n",
       "    .dataframe thead th {\n",
       "        text-align: right;\n",
       "    }\n",
       "</style>\n",
       "<table border=\"1\" class=\"dataframe\">\n",
       "  <thead>\n",
       "    <tr style=\"text-align: right;\">\n",
       "      <th></th>\n",
       "      <th>age</th>\n",
       "      <th>job</th>\n",
       "      <th>marital</th>\n",
       "      <th>education</th>\n",
       "      <th>default</th>\n",
       "      <th>balance</th>\n",
       "      <th>housing</th>\n",
       "      <th>loan</th>\n",
       "      <th>contact</th>\n",
       "      <th>day</th>\n",
       "      <th>month</th>\n",
       "      <th>duration</th>\n",
       "      <th>campaign</th>\n",
       "      <th>pdays</th>\n",
       "      <th>previous</th>\n",
       "      <th>poutcome</th>\n",
       "      <th>deposit</th>\n",
       "    </tr>\n",
       "  </thead>\n",
       "  <tbody>\n",
       "    <tr>\n",
       "      <th>0</th>\n",
       "      <td>59</td>\n",
       "      <td>admin.</td>\n",
       "      <td>married</td>\n",
       "      <td>secondary</td>\n",
       "      <td>no</td>\n",
       "      <td>2343</td>\n",
       "      <td>yes</td>\n",
       "      <td>no</td>\n",
       "      <td>unknown</td>\n",
       "      <td>5</td>\n",
       "      <td>may</td>\n",
       "      <td>1042</td>\n",
       "      <td>1</td>\n",
       "      <td>-1</td>\n",
       "      <td>0</td>\n",
       "      <td>unknown</td>\n",
       "      <td>yes</td>\n",
       "    </tr>\n",
       "    <tr>\n",
       "      <th>1</th>\n",
       "      <td>56</td>\n",
       "      <td>admin.</td>\n",
       "      <td>married</td>\n",
       "      <td>secondary</td>\n",
       "      <td>no</td>\n",
       "      <td>45</td>\n",
       "      <td>no</td>\n",
       "      <td>no</td>\n",
       "      <td>unknown</td>\n",
       "      <td>5</td>\n",
       "      <td>may</td>\n",
       "      <td>1467</td>\n",
       "      <td>1</td>\n",
       "      <td>-1</td>\n",
       "      <td>0</td>\n",
       "      <td>unknown</td>\n",
       "      <td>yes</td>\n",
       "    </tr>\n",
       "    <tr>\n",
       "      <th>2</th>\n",
       "      <td>41</td>\n",
       "      <td>technician</td>\n",
       "      <td>married</td>\n",
       "      <td>secondary</td>\n",
       "      <td>no</td>\n",
       "      <td>1270</td>\n",
       "      <td>yes</td>\n",
       "      <td>no</td>\n",
       "      <td>unknown</td>\n",
       "      <td>5</td>\n",
       "      <td>may</td>\n",
       "      <td>1389</td>\n",
       "      <td>1</td>\n",
       "      <td>-1</td>\n",
       "      <td>0</td>\n",
       "      <td>unknown</td>\n",
       "      <td>yes</td>\n",
       "    </tr>\n",
       "    <tr>\n",
       "      <th>3</th>\n",
       "      <td>55</td>\n",
       "      <td>services</td>\n",
       "      <td>married</td>\n",
       "      <td>secondary</td>\n",
       "      <td>no</td>\n",
       "      <td>2476</td>\n",
       "      <td>yes</td>\n",
       "      <td>no</td>\n",
       "      <td>unknown</td>\n",
       "      <td>5</td>\n",
       "      <td>may</td>\n",
       "      <td>579</td>\n",
       "      <td>1</td>\n",
       "      <td>-1</td>\n",
       "      <td>0</td>\n",
       "      <td>unknown</td>\n",
       "      <td>yes</td>\n",
       "    </tr>\n",
       "    <tr>\n",
       "      <th>4</th>\n",
       "      <td>54</td>\n",
       "      <td>admin.</td>\n",
       "      <td>married</td>\n",
       "      <td>tertiary</td>\n",
       "      <td>no</td>\n",
       "      <td>184</td>\n",
       "      <td>no</td>\n",
       "      <td>no</td>\n",
       "      <td>unknown</td>\n",
       "      <td>5</td>\n",
       "      <td>may</td>\n",
       "      <td>673</td>\n",
       "      <td>2</td>\n",
       "      <td>-1</td>\n",
       "      <td>0</td>\n",
       "      <td>unknown</td>\n",
       "      <td>yes</td>\n",
       "    </tr>\n",
       "    <tr>\n",
       "      <th>...</th>\n",
       "      <td>...</td>\n",
       "      <td>...</td>\n",
       "      <td>...</td>\n",
       "      <td>...</td>\n",
       "      <td>...</td>\n",
       "      <td>...</td>\n",
       "      <td>...</td>\n",
       "      <td>...</td>\n",
       "      <td>...</td>\n",
       "      <td>...</td>\n",
       "      <td>...</td>\n",
       "      <td>...</td>\n",
       "      <td>...</td>\n",
       "      <td>...</td>\n",
       "      <td>...</td>\n",
       "      <td>...</td>\n",
       "      <td>...</td>\n",
       "    </tr>\n",
       "    <tr>\n",
       "      <th>11157</th>\n",
       "      <td>33</td>\n",
       "      <td>blue-collar</td>\n",
       "      <td>single</td>\n",
       "      <td>primary</td>\n",
       "      <td>no</td>\n",
       "      <td>1</td>\n",
       "      <td>yes</td>\n",
       "      <td>no</td>\n",
       "      <td>cellular</td>\n",
       "      <td>20</td>\n",
       "      <td>apr</td>\n",
       "      <td>257</td>\n",
       "      <td>1</td>\n",
       "      <td>-1</td>\n",
       "      <td>0</td>\n",
       "      <td>unknown</td>\n",
       "      <td>no</td>\n",
       "    </tr>\n",
       "    <tr>\n",
       "      <th>11158</th>\n",
       "      <td>39</td>\n",
       "      <td>services</td>\n",
       "      <td>married</td>\n",
       "      <td>secondary</td>\n",
       "      <td>no</td>\n",
       "      <td>733</td>\n",
       "      <td>no</td>\n",
       "      <td>no</td>\n",
       "      <td>unknown</td>\n",
       "      <td>16</td>\n",
       "      <td>jun</td>\n",
       "      <td>83</td>\n",
       "      <td>4</td>\n",
       "      <td>-1</td>\n",
       "      <td>0</td>\n",
       "      <td>unknown</td>\n",
       "      <td>no</td>\n",
       "    </tr>\n",
       "    <tr>\n",
       "      <th>11159</th>\n",
       "      <td>32</td>\n",
       "      <td>technician</td>\n",
       "      <td>single</td>\n",
       "      <td>secondary</td>\n",
       "      <td>no</td>\n",
       "      <td>29</td>\n",
       "      <td>no</td>\n",
       "      <td>no</td>\n",
       "      <td>cellular</td>\n",
       "      <td>19</td>\n",
       "      <td>aug</td>\n",
       "      <td>156</td>\n",
       "      <td>2</td>\n",
       "      <td>-1</td>\n",
       "      <td>0</td>\n",
       "      <td>unknown</td>\n",
       "      <td>no</td>\n",
       "    </tr>\n",
       "    <tr>\n",
       "      <th>11160</th>\n",
       "      <td>43</td>\n",
       "      <td>technician</td>\n",
       "      <td>married</td>\n",
       "      <td>secondary</td>\n",
       "      <td>no</td>\n",
       "      <td>0</td>\n",
       "      <td>no</td>\n",
       "      <td>yes</td>\n",
       "      <td>cellular</td>\n",
       "      <td>8</td>\n",
       "      <td>may</td>\n",
       "      <td>9</td>\n",
       "      <td>2</td>\n",
       "      <td>172</td>\n",
       "      <td>5</td>\n",
       "      <td>failure</td>\n",
       "      <td>no</td>\n",
       "    </tr>\n",
       "    <tr>\n",
       "      <th>11161</th>\n",
       "      <td>34</td>\n",
       "      <td>technician</td>\n",
       "      <td>married</td>\n",
       "      <td>secondary</td>\n",
       "      <td>no</td>\n",
       "      <td>0</td>\n",
       "      <td>no</td>\n",
       "      <td>no</td>\n",
       "      <td>cellular</td>\n",
       "      <td>9</td>\n",
       "      <td>jul</td>\n",
       "      <td>628</td>\n",
       "      <td>1</td>\n",
       "      <td>-1</td>\n",
       "      <td>0</td>\n",
       "      <td>unknown</td>\n",
       "      <td>no</td>\n",
       "    </tr>\n",
       "  </tbody>\n",
       "</table>\n",
       "<p>11162 rows × 17 columns</p>\n",
       "</div>"
      ],
      "text/plain": [
       "       age          job  marital  education default  balance housing loan  \\\n",
       "0       59       admin.  married  secondary      no     2343     yes   no   \n",
       "1       56       admin.  married  secondary      no       45      no   no   \n",
       "2       41   technician  married  secondary      no     1270     yes   no   \n",
       "3       55     services  married  secondary      no     2476     yes   no   \n",
       "4       54       admin.  married   tertiary      no      184      no   no   \n",
       "...    ...          ...      ...        ...     ...      ...     ...  ...   \n",
       "11157   33  blue-collar   single    primary      no        1     yes   no   \n",
       "11158   39     services  married  secondary      no      733      no   no   \n",
       "11159   32   technician   single  secondary      no       29      no   no   \n",
       "11160   43   technician  married  secondary      no        0      no  yes   \n",
       "11161   34   technician  married  secondary      no        0      no   no   \n",
       "\n",
       "        contact  day month  duration  campaign  pdays  previous poutcome  \\\n",
       "0       unknown    5   may      1042         1     -1         0  unknown   \n",
       "1       unknown    5   may      1467         1     -1         0  unknown   \n",
       "2       unknown    5   may      1389         1     -1         0  unknown   \n",
       "3       unknown    5   may       579         1     -1         0  unknown   \n",
       "4       unknown    5   may       673         2     -1         0  unknown   \n",
       "...         ...  ...   ...       ...       ...    ...       ...      ...   \n",
       "11157  cellular   20   apr       257         1     -1         0  unknown   \n",
       "11158   unknown   16   jun        83         4     -1         0  unknown   \n",
       "11159  cellular   19   aug       156         2     -1         0  unknown   \n",
       "11160  cellular    8   may         9         2    172         5  failure   \n",
       "11161  cellular    9   jul       628         1     -1         0  unknown   \n",
       "\n",
       "      deposit  \n",
       "0         yes  \n",
       "1         yes  \n",
       "2         yes  \n",
       "3         yes  \n",
       "4         yes  \n",
       "...       ...  \n",
       "11157      no  \n",
       "11158      no  \n",
       "11159      no  \n",
       "11160      no  \n",
       "11161      no  \n",
       "\n",
       "[11162 rows x 17 columns]"
      ]
     },
     "execution_count": 4,
     "metadata": {},
     "output_type": "execute_result"
    }
   ],
   "source": [
    "df"
   ]
  },
  {
   "cell_type": "markdown",
   "metadata": {},
   "source": [
    "We have 17 columns and 11162 rows to analyze the data. For each columns there is information to understand the parameters and variables."
   ]
  },
  {
   "cell_type": "markdown",
   "metadata": {},
   "source": [
    "1 - age (numeric)\n",
    "\n",
    "2 - job : type of job (categorical: 'admin.','blue-collar','entrepreneur','housemaid','management','retired','self-employed','services','student','technician','unemployed','unknown')\n",
    "\n",
    "3 - marital : marital status (categorical: 'divorced','married','single','unknown'; note: 'divorced' means divorced or widowed)\n",
    "\n",
    "4 - education (categorical: 'basic.4y','basic.6y','basic.9y','high.school','illiterate','professional.course','university.degree','unknown')\n",
    "\n",
    "5 - default: has credit in default? (categorical: 'no','yes','unknown')\n",
    "\n",
    "6 - housing: has housing loan? (categorical: 'no','yes','unknown')\n",
    "\n",
    "7 - loan: has personal loan? (categorical: 'no','yes','unknown')\n",
    "\n",
    "8 - contact: contact communication type (categorical: 'cellular','telephone')\n",
    "\n",
    "9 - month: last contact month of year (categorical: 'jan', 'feb', 'mar', ..., 'nov', 'dec')\n",
    "\n",
    "10 - day_of_week: last contact day of the week (categorical: 'mon','tue','wed','thu','fri')\n",
    "\n",
    "11 - duration: last contact duration, in seconds (numeric). Important note: this attribute highly affects the output target (e.g., if duration=0 then y='no'). Yet, the duration is not known before a call is performed. Also, after the end of the call y is obviously known. Thus, this input should only be included for benchmark purposes and should be discarded if the intention is to have a realistic predictive model.\n",
    "\n",
    "12 - campaign: number of contacts performed during this campaign and for this client (numeric, includes last contact)\n",
    "\n",
    "13 - pdays: number of days that passed by after the client was last contacted from a previous campaign (numeric; 999 means client was not previously contacted)\n",
    "\n",
    "14 - previous: number of contacts performed before this campaign and for this client (numeric)\n",
    "\n",
    "15 - poutcome: outcome of the previous marketing campaign (categorical: 'failure','nonexistent','success')\n",
    "\n",
    "16 - balance: balance od the customer\n",
    "\n",
    "17 - y - has the client subscribed a term deposit? (binary: 'yes','no')"
   ]
  },
  {
   "cell_type": "markdown",
   "metadata": {},
   "source": [
    "#### My strategy for this analysis is visualize the data by each columns to understands customer characteristics that affect the deposit as a target. So let's see the null value for each columns."
   ]
  },
  {
   "cell_type": "code",
   "execution_count": 31,
   "metadata": {},
   "outputs": [
    {
     "data": {
      "text/plain": [
       "age          0\n",
       "job          0\n",
       "marital      0\n",
       "education    0\n",
       "default      0\n",
       "balance      0\n",
       "housing      0\n",
       "loan         0\n",
       "contact      0\n",
       "day          0\n",
       "month        0\n",
       "duration     0\n",
       "campaign     0\n",
       "pdays        0\n",
       "previous     0\n",
       "poutcome     0\n",
       "deposit      0\n",
       "dtype: int64"
      ]
     },
     "execution_count": 31,
     "metadata": {},
     "output_type": "execute_result"
    }
   ],
   "source": [
    "df.isnull().sum()"
   ]
  },
  {
   "cell_type": "markdown",
   "metadata": {},
   "source": [
    "#### There's no null values for each columns, so we can do EDA with seaborn and matplotlib."
   ]
  },
  {
   "cell_type": "code",
   "execution_count": 32,
   "metadata": {},
   "outputs": [
    {
     "data": {
      "text/plain": [
       "no     5873\n",
       "yes    5289\n",
       "Name: deposit, dtype: int64"
      ]
     },
     "execution_count": 32,
     "metadata": {},
     "output_type": "execute_result"
    }
   ],
   "source": [
    "df['deposit'].value_counts()"
   ]
  },
  {
   "cell_type": "markdown",
   "metadata": {},
   "source": [
    "#### We count the amount of yes to deposit and no to deposit as a target for campaign effectiveness. We can see it's relatively balance number but we have to breakdown each customer who willing to deposit or not."
   ]
  },
  {
   "cell_type": "markdown",
   "metadata": {},
   "source": [
    "## Let's visualize it"
   ]
  },
  {
   "cell_type": "code",
   "execution_count": 11,
   "metadata": {},
   "outputs": [
    {
     "data": {
      "image/png": "[encoded data removed]",
      "text/plain": [
       "<Figure size 1008x864 with 6 Axes>"
      ]
     },
     "metadata": {},
     "output_type": "display_data"
    }
   ],
   "source": [
    "sns.set(style='darkgrid')\n",
    "\n",
    "fig, ax = plt.subplots(2, 3, figsize=(14, 12))\n",
    "\n",
    "sns.countplot(data=df, x='marital', hue='deposit',ax=ax[0][0])\n",
    "sns.countplot(data=df, x='education', hue='deposit', ax=ax[0][1])\n",
    "sns.countplot(data=df, x='default', hue='deposit', ax=ax[0][2])\n",
    "sns.countplot(data=df, x='housing', hue='deposit', ax=ax[1][0])\n",
    "sns.countplot(data=df, x='loan', hue='deposit', ax=ax[1][1])\n",
    "sns.countplot(data=df, x='contact', hue='deposit', ax=ax[1][2])\n",
    "plt.tight_layout()\n",
    "plt.show()"
   ]
  },
  {
   "cell_type": "markdown",
   "metadata": {},
   "source": [
    "#### To acknowledge the effectiveness of this campaign we count the conversion rate is the sum of yes to deposit divide by sum of no to deposit. When the number less than one it means the effectiveness is low. When the number around one it means effectivenss is okay and above one is really effective."
   ]
  },
  {
   "cell_type": "code",
   "execution_count": 54,
   "metadata": {},
   "outputs": [
    {
     "name": "stdout",
     "output_type": "stream",
     "text": [
      "Married Conversion Rate: 0.7661290322580645\n",
      "Single Conversion Rate: 1.190535491905355\n",
      "Divorced Conversion Rate: 0.9269746646795827\n"
     ]
    }
   ],
   "source": [
    "married_yes=df.loc[((df['marital']=='married') & (df['deposit']=='yes'))]\n",
    "married_no=df.loc[((df['marital']=='married') & (df['deposit']=='no'))]\n",
    "print('Married Conversion Rate:',married_yes['deposit'].replace('yes',1).sum()/married_no['deposit'].replace('no',1).sum())\n",
    "\n",
    "single_yes=df.loc[((df['marital']=='single') & (df['deposit']=='yes'))]\n",
    "single_no=df.loc[((df['marital']=='single') & (df['deposit']=='no'))]\n",
    "print('Single Conversion Rate:',single_yes['deposit'].replace('yes',1).sum()/single_no['deposit'].replace('no',1).sum())\n",
    "\n",
    "divorced_yes=df.loc[((df['marital']=='divorced') & (df['deposit']=='yes'))]\n",
    "divorced_no=df.loc[((df['marital']=='divorced') & (df['deposit']=='no'))]\n",
    "print('Divorced Conversion Rate:',divorced_yes['deposit'].replace('yes',1).sum()/divorced_no['deposit'].replace('no',1).sum())"
   ]
  },
  {
   "cell_type": "code",
   "execution_count": 76,
   "metadata": {},
   "outputs": [
    {
     "name": "stdout",
     "output_type": "stream",
     "text": [
      "Secondary Education Conversion Rate: 0.8096497025776602\n",
      "Tertiary Education Conversion Rate: 1.1789722386296515\n",
      "Primary Education Conversion Rate: 0.6501650165016502\n",
      "Unknown Conversion Rate: 1.0285714285714285\n"
     ]
    }
   ],
   "source": [
    "secondary_yes=df.loc[((df['education']=='secondary') & (df['deposit']=='yes'))]\n",
    "secondary_no=df.loc[((df['education']=='secondary') & (df['deposit']=='no'))]\n",
    "print('Secondary Education Conversion Rate:',secondary_yes['deposit'].replace('yes',1).sum()/secondary_no['deposit'].replace('no',1).sum())\n",
    "\n",
    "tertiary_yes=df.loc[((df['education']=='tertiary') & (df['deposit']=='yes'))]\n",
    "tertiary_no=df.loc[((df['education']=='tertiary') & (df['deposit']=='no'))]\n",
    "print('Tertiary Education Conversion Rate:',tertiary_yes['deposit'].replace('yes',1).sum()/tertiary_no['deposit'].replace('no',1).sum())\n",
    "\n",
    "primary_yes=df.loc[((df['education']=='primary') & (df['deposit']=='yes'))]\n",
    "primary_no=df.loc[((df['education']=='primary') & (df['deposit']=='no'))]\n",
    "print('Primary Education Conversion Rate:',primary_yes['deposit'].replace('yes',1).sum()/primary_no['deposit'].replace('no',1).sum())\n",
    "\n",
    "unk_ed_yes=df.loc[((df['education']=='unknown') & (df['deposit']=='yes'))]\n",
    "unk_ed_no=df.loc[((df['education']=='unknown') & (df['deposit']=='no'))]\n",
    "print('Unknown Conversion Rate:',unk_ed_yes['deposit'].replace('yes',1).sum()/unk_ed_no['deposit'].replace('no',1).sum())"
   ]
  },
  {
   "cell_type": "code",
   "execution_count": 77,
   "metadata": {},
   "outputs": [
    {
     "name": "stdout",
     "output_type": "stream",
     "text": [
      "Default No Conversion Rate: 0.9096751780441202\n",
      "Default Yes Conversion Rate: 0.4482758620689655\n"
     ]
    }
   ],
   "source": [
    "hno_yes=df.loc[((df['housing']=='no') & (df['deposit']=='yes'))]\n",
    "hno_no=df.loc[((df['housing']=='no') & (df['deposit']=='no'))]\n",
    "print('Housing version Rate:',defno_yes['deposit'].replace('yes',1).sum()/defno_no['deposit'].replace('no',1).sum())\n"
   ]
  },
  {
   "cell_type": "code",
   "execution_count": 85,
   "metadata": {},
   "outputs": [
    {
     "name": "stdout",
     "output_type": "stream",
     "text": [
      "Housing No Conversion Rate: 1.3272655322516818\n",
      "Housing Yes Conversion Rate: 0.578302450687388\n"
     ]
    }
   ],
   "source": [
    "hno_yes=df.loc[((df['housing']=='no') & (df['deposit']=='yes'))]\n",
    "hno_no=df.loc[((df['housing']=='no') & (df['deposit']=='no'))]\n",
    "print('Housing No Conversion Rate:',hno_yes['deposit'].replace('yes',1).sum()/hno_no['deposit'].replace('no',1).sum())\n",
    "hyes_yes=df.loc[((df['housing']=='yes') & (df['deposit']=='yes'))]\n",
    "hyes_no=df.loc[((df['housing']=='yes') & (df['deposit']=='no'))]\n",
    "print('Housing Yes Conversion Rate:',hyes_yes['deposit'].replace('yes',1).sum()/hyes_no['deposit'].replace('no',1).sum())"
   ]
  },
  {
   "cell_type": "code",
   "execution_count": 86,
   "metadata": {},
   "outputs": [
    {
     "name": "stdout",
     "output_type": "stream",
     "text": [
      "No Loan Conversion Rate: 0.9812129875433939\n",
      "Yes Loan Conversion Rate: 0.4959016393442623\n"
     ]
    }
   ],
   "source": [
    "loanno_yes=df.loc[((df['loan']=='no') & (df['deposit']=='yes'))]\n",
    "loanno_no=df.loc[((df['loan']=='no') & (df['deposit']=='no'))]\n",
    "print('No Loan Conversion Rate:',loanno_yes['deposit'].replace('yes',1).sum()/loanno_no['deposit'].replace('no',1).sum())\n",
    "\n",
    "loanyes_yes=df.loc[((df['loan']=='yes') & (df['deposit']=='yes'))]\n",
    "loanyes_no=df.loc[((df['loan']=='yes') & (df['deposit']=='no'))]\n",
    "print('Yes Loan Conversion Rate:',loanyes_yes['deposit'].replace('yes',1).sum()/loanyes_no['deposit'].replace('no',1).sum())\n"
   ]
  },
  {
   "cell_type": "code",
   "execution_count": 87,
   "metadata": {},
   "outputs": [
    {
     "name": "stdout",
     "output_type": "stream",
     "text": [
      "Cellular Conversion Rate: 1.1894908793901442\n",
      "Telephone Conversion Rate: 1.015625\n",
      "Unknown Conversion Rate: 0.2918502202643172\n"
     ]
    }
   ],
   "source": [
    "cell_yes=df.loc[((df['contact']=='cellular') & (df['deposit']=='yes'))]\n",
    "cell_no=df.loc[((df['contact']=='cellular') & (df['deposit']=='no'))]\n",
    "print('Cellular Conversion Rate:',cell_yes['deposit'].replace('yes',1).sum()/cell_no['deposit'].replace('no',1).sum())\n",
    "tel_yes=df.loc[((df['contact']=='telephone') & (df['deposit']=='yes'))]\n",
    "tel_no=df.loc[((df['contact']=='telephone') & (df['deposit']=='no'))]\n",
    "print('Telephone Conversion Rate:',tel_yes['deposit'].replace('yes',1).sum()/tel_no['deposit'].replace('no',1).sum())\n",
    "unk_con_yes=df.loc[((df['contact']=='unknown') & (df['deposit']=='yes'))]\n",
    "unk_con_no=df.loc[((df['contact']=='unknown') & (df['deposit']=='no'))]\n",
    "print('Unknown Conversion Rate:',unk_con_yes['deposit'].replace('yes',1).sum()/unk_con_no['deposit'].replace('no',1).sum())"
   ]
  },
  {
   "cell_type": "markdown",
   "metadata": {},
   "source": [
    "Based on this visualization we can conclude:\n",
    "1. Based on marital status large portion of our customer are married but conversion to deposit are lower than who aren't willing to deposit. Single has higher conversion rate than married..\n",
    "\n",
    "2. Based on education large portion of our customer are have been in secondary education but number of deposit are lower than no deposit.Tertiary are second largest but the deposit are higher than no deposit. Primary have a lot of no deposit and for unknown status are relatively balance.\n",
    "\n",
    "3. Based on default status our customer mostly default and higher number for no deposit but still we have a large chunk for deposit. \n",
    "\n",
    "4. Based on housing status we have relatively balance number between taking the mortgage and not taking. But customer who take the mortgage are having higher number in no deposit, in a contrary customer who taking the mortgage are having large number in deposit rather than no deposit.\n",
    "\n",
    "5. Based on loan status most of our customer not having another loan and the number of deposit relatively balance to no deposit. For customer who have another loan most of them are no deposit.\n",
    "\n",
    "6. Based on the contact method people using celular phone are the majority of our customer and they are more  willing to deposit. The unknown method are having most for no deposit and telephone method are relatively balance."
   ]
  },
  {
   "cell_type": "code",
   "execution_count": 6,
   "metadata": {},
   "outputs": [
    {
     "data": {
      "image/png": "[encoded data removed]",
      "text/plain": [
       "<Figure size 1008x864 with 1 Axes>"
      ]
     },
     "metadata": {},
     "output_type": "display_data"
    }
   ],
   "source": [
    "sns.set(style='darkgrid')\n",
    "fig,ax= plt.subplots(figsize=(14, 12))\n",
    "sns.countplot(data=df, x='job', hue='deposit',ax=ax)\n",
    "plt.title('Job Definition', fontsize=20)\n",
    "plt.show()"
   ]
  },
  {
   "cell_type": "code",
   "execution_count": 69,
   "metadata": {},
   "outputs": [
    {
     "name": "stdout",
     "output_type": "stream",
     "text": [
      "Admin Conversion Rate: 0.8975817923186344\n",
      "Technician Conversion Rate: 0.854526958290946\n",
      "Services Conversion Rate: 0.6660649819494585\n",
      "Management Conversion Rate: 1.0284584980237155\n",
      "Retired Conversion Rate: 1.9694656488549618\n",
      "Blue-Collar Conversion Rate: 0.5728155339805825\n",
      "Unemployed Conversion Rate: 1.303225806451613\n",
      "Entrepreneur Conversion Rate: 0.6\n",
      "Housemaid Conversion Rate: 0.6606060606060606\n",
      "Self-Employed Conversion Rate: 0.8577981651376146\n",
      "Student Conversion Rate: 2.956043956043956\n",
      "Unknown Status Conversion Rate: 0.9444444444444444\n"
     ]
    }
   ],
   "source": [
    "admin_yes=df.loc[((df['job']=='admin.') & (df['deposit']=='yes'))]\n",
    "admin_no=df.loc[((df['job']=='admin.') & (df['deposit']=='no'))]\n",
    "print('Admin Conversion Rate:',admin_yes['deposit'].replace('yes',1).sum()/admin_no['deposit'].replace('no',1).sum())\n",
    "tech_yes=df.loc[((df['job']=='technician') & (df['deposit']=='yes'))]\n",
    "tech_no=df.loc[((df['job']=='technician') & (df['deposit']=='no'))]\n",
    "print('Technician Conversion Rate:',tech_yes['deposit'].replace('yes',1).sum()/tech_no['deposit'].replace('no',1).sum())\n",
    "serv_yes=df.loc[((df['job']=='services') & (df['deposit']=='yes'))]\n",
    "serv_no=df.loc[((df['job']=='services') & (df['deposit']=='no'))]\n",
    "print('Services Conversion Rate:',serv_yes['deposit'].replace('yes',1).sum()/serv_no['deposit'].replace('no',1).sum())\n",
    "man_yes=df.loc[((df['job']=='management') & (df['deposit']=='yes'))]\n",
    "man_no=df.loc[((df['job']=='management') & (df['deposit']=='no'))]\n",
    "print('Management Conversion Rate:',man_yes['deposit'].replace('yes',1).sum()/man_no['deposit'].replace('no',1).sum())\n",
    "ret_yes=df.loc[((df['job']=='retired') & (df['deposit']=='yes'))]\n",
    "ret_no=df.loc[((df['job']=='retired') & (df['deposit']=='no'))]\n",
    "print('Retired Conversion Rate:',ret_yes['deposit'].replace('yes',1).sum()/ret_no['deposit'].replace('no',1).sum())\n",
    "blue_yes=df.loc[((df['job']=='blue-collar') & (df['deposit']=='yes'))]\n",
    "blue_no=df.loc[((df['job']=='blue-collar') & (df['deposit']=='no'))]\n",
    "print('Blue-Collar Conversion Rate:',blue_yes['deposit'].replace('yes',1).sum()/blue_no['deposit'].replace('no',1).sum())\n",
    "unem_yes=df.loc[((df['job']=='unemployed') & (df['deposit']=='yes'))]\n",
    "unem_no=df.loc[((df['job']=='unemployed') & (df['deposit']=='no'))]\n",
    "print('Unemployed Conversion Rate:',unem_yes['deposit'].replace('yes',1).sum()/unem_no['deposit'].replace('no',1).sum())\n",
    "ent_yes=df.loc[((df['job']=='entrepreneur') & (df['deposit']=='yes'))]\n",
    "ent_no=df.loc[((df['job']=='entrepreneur') & (df['deposit']=='no'))]\n",
    "print('Entrepreneur Conversion Rate:',ent_yes['deposit'].replace('yes',1).sum()/ent_no['deposit'].replace('no',1).sum())\n",
    "house_yes=df.loc[((df['job']=='housemaid') & (df['deposit']=='yes'))]\n",
    "house_no=df.loc[((df['job']=='housemaid') & (df['deposit']=='no'))]\n",
    "print('Housemaid Conversion Rate:',house_yes['deposit'].replace('yes',1).sum()/house_no['deposit'].replace('no',1).sum())\n",
    "self_yes=df.loc[((df['job']=='self-employed') & (df['deposit']=='yes'))]\n",
    "self_no=df.loc[((df['job']=='self-employed') & (df['deposit']=='no'))]\n",
    "print('Self-Employed Conversion Rate:',self_yes['deposit'].replace('yes',1).sum()/self_no['deposit'].replace('no',1).sum())\n",
    "student_yes=df.loc[((df['job']=='student') & (df['deposit']=='yes'))]\n",
    "student_no=df.loc[((df['job']=='student') & (df['deposit']=='no'))]\n",
    "print('Student Conversion Rate:',student_yes['deposit'].replace('yes',1).sum()/student_no['deposit'].replace('no',1).sum())\n",
    "unk_yes=df.loc[((df['job']=='unknown') & (df['deposit']=='yes'))]\n",
    "unk_no=df.loc[((df['job']=='unknown') & (df['deposit']=='no'))]\n",
    "print('Unknown Status Conversion Rate:',unk_yes['deposit'].replace('yes',1).sum()/unk_no['deposit'].replace('no',1).sum())\n"
   ]
  },
  {
   "cell_type": "markdown",
   "metadata": {},
   "source": [
    "#### Based on their job status large number of our customer are from management background, second largest are blue-collar worker. While Management background has a good conversion rate at 1.02 but the highest conversion are student at 2.9 but among the lowest customer segment.\n",
    "\n"
   ]
  },
  {
   "cell_type": "code",
   "execution_count": 12,
   "metadata": {},
   "outputs": [
    {
     "data": {
      "image/png": "[encoded data removed]",
      "text/plain": [
       "<Figure size 720x360 with 1 Axes>"
      ]
     },
     "metadata": {},
     "output_type": "display_data"
    }
   ],
   "source": [
    "sns.set(style='darkgrid')\n",
    "fig,ax= plt.subplots(figsize=(10, 5))\n",
    "sns.countplot(data=df, x='poutcome', hue='deposit',ax=ax)\n",
    "plt.title('Based on Previous Campaign', fontsize=20)\n",
    "plt.show()"
   ]
  },
  {
   "cell_type": "code",
   "execution_count": 70,
   "metadata": {},
   "outputs": [
    {
     "name": "stdout",
     "output_type": "stream",
     "text": [
      "Unknown Status Conversion Rate: 0.6854251012145749\n",
      "Other Status Conversion Rate: 1.3347826086956522\n",
      "Failure Conversion Rate: 1.0131147540983607\n",
      "Success Status Conversion Rate: 10.516129032258064\n"
     ]
    }
   ],
   "source": [
    "unk_out_yes=df.loc[((df['poutcome']=='unknown') & (df['deposit']=='yes'))]\n",
    "unk_out_no=df.loc[((df['poutcome']=='unknown') & (df['deposit']=='no'))]\n",
    "print('Unknown Status Conversion Rate:',unk_out_yes['deposit'].replace('yes',1).sum()/unk_out_no['deposit'].replace('no',1).sum())\n",
    "other_yes=df.loc[((df['poutcome']=='other') & (df['deposit']=='yes'))]\n",
    "other_no=df.loc[((df['poutcome']=='other') & (df['deposit']=='no'))]\n",
    "print('Other Status Conversion Rate:',other_yes['deposit'].replace('yes',1).sum()/other_no['deposit'].replace('no',1).sum())\n",
    "fail_yes=df.loc[((df['poutcome']=='failure') & (df['deposit']=='yes'))]\n",
    "fail_no=df.loc[((df['poutcome']=='failure') & (df['deposit']=='no'))]\n",
    "print('Failure Conversion Rate:',fail_yes['deposit'].replace('yes',1).sum()/fail_no['deposit'].replace('no',1).sum())\n",
    "suc_yes=df.loc[((df['poutcome']=='success') & (df['deposit']=='yes'))]\n",
    "suc_no=df.loc[((df['poutcome']=='success') & (df['deposit']=='no'))]\n",
    "print('Success Status Conversion Rate:',suc_yes['deposit'].replace('yes',1).sum()/suc_no['deposit'].replace('no',1).sum())"
   ]
  },
  {
   "cell_type": "markdown",
   "metadata": {},
   "source": [
    "#### The outcome after previous marketing campaign has a lot of result. But the most signficant is the unknown output with a lot of deposit with low conversion rate at 0.6. We can conclude that customer that already attracted to our campaign are much easy to deposit when we look the Success conversion."
   ]
  },
  {
   "cell_type": "code",
   "execution_count": 13,
   "metadata": {},
   "outputs": [
    {
     "data": {
      "image/png": "[encoded data removed]",
      "text/plain": [
       "<Figure size 720x360 with 1 Axes>"
      ]
     },
     "metadata": {},
     "output_type": "display_data"
    }
   ],
   "source": [
    "sns.set(style='darkgrid')\n",
    "fig,ax= plt.subplots(figsize=(10, 5))\n",
    "sns.countplot(data=df, x='month', hue='deposit',ax=ax)\n",
    "plt.title('Monthly Deposit', fontsize=20)\n",
    "plt.show()"
   ]
  },
  {
   "cell_type": "code",
   "execution_count": 74,
   "metadata": {},
   "outputs": [
    {
     "name": "stdout",
     "output_type": "stream",
     "text": [
      "January Conversion Rate: 0.7029702970297029\n",
      "February Conversion Rate: 1.3164179104477611\n",
      "March Conversion Rate: 8.857142857142858\n",
      "April Conversion Rate: 1.6676300578034682\n",
      "May Conversion Rate: 0.48709847288046343\n",
      "June Conversion Rate: 0.8076923076923077\n",
      "July Conversion Rate: 0.7068771138669673\n",
      "August Conversion Rate: 0.8279181708784596\n",
      "September Conversion Rate: 5.38\n",
      "October Conversion Rate: 4.681159420289855\n",
      "November Conversion Rate: 0.7462962962962963\n",
      "December Conversion Rate: 10.0\n"
     ]
    }
   ],
   "source": [
    "jan_yes=df.loc[((df['month']=='jan') & (df['deposit']=='yes'))]\n",
    "jan_no=df.loc[((df['month']=='jan') & (df['deposit']=='no'))]\n",
    "print('January Conversion Rate:',jan_yes['deposit'].replace('yes',1).sum()/jan_no['deposit'].replace('no',1).sum())\n",
    "feb_yes=df.loc[((df['month']=='feb') & (df['deposit']=='yes'))]\n",
    "feb_no=df.loc[((df['month']=='feb') & (df['deposit']=='no'))]\n",
    "print('February Conversion Rate:',feb_yes['deposit'].replace('yes',1).sum()/feb_no['deposit'].replace('no',1).sum())\n",
    "mar_yes=df.loc[((df['month']=='mar') & (df['deposit']=='yes'))]\n",
    "mar_no=df.loc[((df['month']=='mar') & (df['deposit']=='no'))]\n",
    "print('March Conversion Rate:',mar_yes['deposit'].replace('yes',1).sum()/mar_no['deposit'].replace('no',1).sum())\n",
    "apr_yes=df.loc[((df['month']=='apr') & (df['deposit']=='yes'))]\n",
    "apr_no=df.loc[((df['month']=='apr') & (df['deposit']=='no'))]\n",
    "print('April Conversion Rate:',apr_yes['deposit'].replace('yes',1).sum()/apr_no['deposit'].replace('no',1).sum())\n",
    "may_yes=df.loc[((df['month']=='may') & (df['deposit']=='yes'))]\n",
    "may_no=df.loc[((df['month']=='may') & (df['deposit']=='no'))]\n",
    "print('May Conversion Rate:',may_yes['deposit'].replace('yes',1).sum()/may_no['deposit'].replace('no',1).sum())\n",
    "jun_yes=df.loc[((df['month']=='jun') & (df['deposit']=='yes'))]\n",
    "jun_no=df.loc[((df['month']=='jun') & (df['deposit']=='no'))]\n",
    "print('June Conversion Rate:',jun_yes['deposit'].replace('yes',1).sum()/jun_no['deposit'].replace('no',1).sum())\n",
    "jul_yes=df.loc[((df['month']=='jul') & (df['deposit']=='yes'))]\n",
    "jul_no=df.loc[((df['month']=='jul') & (df['deposit']=='no'))]\n",
    "print('July Conversion Rate:',jul_yes['deposit'].replace('yes',1).sum()/jul_no['deposit'].replace('no',1).sum())\n",
    "agt_yes=df.loc[((df['month']=='aug') & (df['deposit']=='yes'))]\n",
    "agt_no=df.loc[((df['month']=='aug') & (df['deposit']=='no'))]\n",
    "print('August Conversion Rate:',agt_yes['deposit'].replace('yes',1).sum()/agt_no['deposit'].replace('no',1).sum())\n",
    "sep_yes=df.loc[((df['month']=='sep') & (df['deposit']=='yes'))]\n",
    "sep_no=df.loc[((df['month']=='sep') & (df['deposit']=='no'))]\n",
    "print('September Conversion Rate:',sep_yes['deposit'].replace('yes',1).sum()/sep_no['deposit'].replace('no',1).sum())\n",
    "oct_yes=df.loc[((df['month']=='oct') & (df['deposit']=='yes'))]\n",
    "oct_no=df.loc[((df['month']=='oct') & (df['deposit']=='no'))]\n",
    "print('October Conversion Rate:',oct_yes['deposit'].replace('yes',1).sum()/oct_no['deposit'].replace('no',1).sum())\n",
    "nov_yes=df.loc[((df['month']=='nov') & (df['deposit']=='yes'))]\n",
    "nov_no=df.loc[((df['month']=='nov') & (df['deposit']=='no'))]\n",
    "print('November Conversion Rate:',nov_yes['deposit'].replace('yes',1).sum()/nov_no['deposit'].replace('no',1).sum())\n",
    "dec_yes=df.loc[((df['month']=='dec') & (df['deposit']=='yes'))]\n",
    "dec_no=df.loc[((df['month']=='dec') & (df['deposit']=='no'))]\n",
    "print('December Conversion Rate:',dec_yes['deposit'].replace('yes',1).sum()/dec_no['deposit'].replace('no',1).sum())"
   ]
  },
  {
   "cell_type": "markdown",
   "metadata": {},
   "source": [
    "#### Based on month most customer attracted at May but the conversion rate is the lowest among many months but still hold the largest deposit. The highest conversion are at December with the lowest deposit."
   ]
  },
  {
   "cell_type": "markdown",
   "metadata": {},
   "source": [
    "#### We move to the next insight. We look to on contacting customers duration in seconds. So we can conculde effective marketing while phone-calling. We segregate between calling less than 500 second and more than 500 second."
   ]
  },
  {
   "cell_type": "code",
   "execution_count": 14,
   "metadata": {},
   "outputs": [],
   "source": [
    "less_than_500=df.loc[df['duration']<= 500]"
   ]
  },
  {
   "cell_type": "code",
   "execution_count": 15,
   "metadata": {},
   "outputs": [],
   "source": [
    "more_than_500=df.loc[df['duration']>= 500]"
   ]
  },
  {
   "cell_type": "code",
   "execution_count": 16,
   "metadata": {},
   "outputs": [
    {
     "name": "stdout",
     "output_type": "stream",
     "text": [
      "Less than 500 second Conversion Rate: 0.5594353640416048\n"
     ]
    }
   ],
   "source": [
    "less_than_500_yes=df.loc[((df['duration']<= 500) & (df['deposit']=='yes'))]\n",
    "less_than_500_no=df.loc[((df['duration']<= 500) & (df['deposit']=='no'))]\n",
    "print('Less than 500 second Conversion Rate:',less_than_500_yes['deposit'].replace('yes',1).sum()/less_than_500_no['deposit'].replace('no',1).sum())"
   ]
  },
  {
   "cell_type": "code",
   "execution_count": 17,
   "metadata": {},
   "outputs": [
    {
     "name": "stdout",
     "output_type": "stream",
     "text": [
      "More than 500 second Conversion Rate: 4.647657841140529\n"
     ]
    }
   ],
   "source": [
    "more_than_500_yes=df.loc[((df['duration']>= 500) & (df['deposit']=='yes'))]\n",
    "more_than_500_no=df.loc[((df['duration']>= 500) & (df['deposit']=='no'))]\n",
    "print('More than 500 second Conversion Rate:',more_than_500_yes['deposit'].replace('yes',1).sum()/more_than_500_no['deposit'].replace('no',1).sum())"
   ]
  },
  {
   "cell_type": "code",
   "execution_count": 18,
   "metadata": {},
   "outputs": [
    {
     "data": {
      "image/png": "[encoded data removed]",
      "text/plain": [
       "<Figure size 504x576 with 1 Axes>"
      ]
     },
     "metadata": {},
     "output_type": "display_data"
    }
   ],
   "source": [
    "sns.set(style='darkgrid')\n",
    "fig,ax= plt.subplots(figsize=(7, 8))\n",
    "sns.countplot(data=less_than_500, x='deposit',ax=ax)\n",
    "plt.title('Less than 500 Second', fontsize=20)\n",
    "plt.show()"
   ]
  },
  {
   "cell_type": "code",
   "execution_count": 19,
   "metadata": {},
   "outputs": [
    {
     "data": {
      "image/png": "[encoded data removed]",
      "text/plain": [
       "<Figure size 504x576 with 1 Axes>"
      ]
     },
     "metadata": {},
     "output_type": "display_data"
    }
   ],
   "source": [
    "sns.set(style='darkgrid')\n",
    "fig,ax= plt.subplots(figsize=(7, 8))\n",
    "sns.countplot(data=more_than_500, x='deposit',ax=ax)\n",
    "plt.title('More than 500 Second', fontsize=20)\n",
    "plt.show()"
   ]
  },
  {
   "cell_type": "markdown",
   "metadata": {},
   "source": [
    "We can see from the data above duration more than 500 second having a lot of conversion rate than less than 500 duration. But the amount of customer with less than 500 second are more than above 500 second duration. "
   ]
  },
  {
   "cell_type": "markdown",
   "metadata": {},
   "source": [
    "After the duration, we move to last analysis from how many contacts that effective for the campaign. We seperate for 1 time, 2 times, 3 times, 4 and more than 4 times."
   ]
  },
  {
   "cell_type": "code",
   "execution_count": 21,
   "metadata": {},
   "outputs": [],
   "source": [
    "campaign_1=df.loc[df['campaign']==1]"
   ]
  },
  {
   "cell_type": "code",
   "execution_count": 22,
   "metadata": {},
   "outputs": [],
   "source": [
    "campaign_2=df.loc[df['campaign']==2]"
   ]
  },
  {
   "cell_type": "code",
   "execution_count": 23,
   "metadata": {},
   "outputs": [],
   "source": [
    "campaign_3=df.loc[df['campaign']==3]"
   ]
  },
  {
   "cell_type": "code",
   "execution_count": 24,
   "metadata": {},
   "outputs": [],
   "source": [
    "campaign_more_than_4=df.loc[df['campaign']>= 4]"
   ]
  },
  {
   "cell_type": "code",
   "execution_count": 91,
   "metadata": {},
   "outputs": [
    {
     "name": "stdout",
     "output_type": "stream",
     "text": [
      "Campaign 1 time Conversion Rate: 1.1448368350469378\n"
     ]
    }
   ],
   "source": [
    "campaign_1_yes=df.loc[((df['campaign']==1) & (df['deposit']=='yes'))]\n",
    "campaign_1_no=df.loc[((df['campaign']==1) & (df['deposit']=='no'))]\n",
    "print('Campaign 1 time Conversion Rate:',campaign_1_yes['deposit'].replace('yes',1).sum()/campaign_1_no['deposit'].replace('no',1).sum())"
   ]
  },
  {
   "cell_type": "code",
   "execution_count": 92,
   "metadata": {},
   "outputs": [
    {
     "name": "stdout",
     "output_type": "stream",
     "text": [
      "Campaign 2 times Conversion Rate: 0.8610940381069453\n"
     ]
    }
   ],
   "source": [
    "campaign_2_yes=df.loc[((df['campaign']==2) & (df['deposit']=='yes'))]\n",
    "campaign_2_no=df.loc[((df['campaign']==2) & (df['deposit']=='no'))]\n",
    "print('Campaign 2 times Conversion Rate:',campaign_2_yes['deposit'].replace('yes',1).sum()/campaign_2_no['deposit'].replace('no',1).sum())"
   ]
  },
  {
   "cell_type": "code",
   "execution_count": 93,
   "metadata": {},
   "outputs": [
    {
     "name": "stdout",
     "output_type": "stream",
     "text": [
      "Campaign 3 times Conversion Rate: 0.8790896159317212\n"
     ]
    }
   ],
   "source": [
    "campaign_3_yes=df.loc[((df['campaign']==3) & (df['deposit']=='yes'))]\n",
    "campaign_3_no=df.loc[((df['campaign']==3) & (df['deposit']=='no'))]\n",
    "print('Campaign 3 times Conversion Rate:',campaign_3_yes['deposit'].replace('yes',1).sum()/campaign_3_no['deposit'].replace('no',1).sum())"
   ]
  },
  {
   "cell_type": "code",
   "execution_count": 94,
   "metadata": {},
   "outputs": [
    {
     "name": "stdout",
     "output_type": "stream",
     "text": [
      "Campaign more than 4 times Conversion Rate: 0.5428790199081164\n"
     ]
    }
   ],
   "source": [
    "campaign_4_yes=df.loc[((df['campaign']>= 4) & (df['deposit']=='yes'))]\n",
    "campaign_4_no=df.loc[((df['campaign']>= 4) & (df['deposit']=='no'))]\n",
    "print('Campaign more than 4 times Conversion Rate:',campaign_4_yes['deposit'].replace('yes',1).sum()/campaign_4_no['deposit'].replace('no',1).sum())"
   ]
  },
  {
   "cell_type": "code",
   "execution_count": 25,
   "metadata": {},
   "outputs": [
    {
     "data": {
      "image/png": "[encoded data removed]",
      "text/plain": [
       "<Figure size 504x576 with 1 Axes>"
      ]
     },
     "metadata": {},
     "output_type": "display_data"
    }
   ],
   "source": [
    "sns.set(style='darkgrid')\n",
    "fig,ax= plt.subplots(figsize=(7, 8))\n",
    "sns.countplot(data=campaign_1, x='deposit',ax=ax)\n",
    "plt.title('1 time Campaign', fontsize=20)\n",
    "plt.show()"
   ]
  },
  {
   "cell_type": "code",
   "execution_count": 26,
   "metadata": {},
   "outputs": [
    {
     "data": {
      "image/png": "[encoded data removed]",
      "text/plain": [
       "<Figure size 504x576 with 1 Axes>"
      ]
     },
     "metadata": {},
     "output_type": "display_data"
    }
   ],
   "source": [
    "sns.set(style='darkgrid')\n",
    "fig,ax= plt.subplots(figsize=(7, 8))\n",
    "sns.countplot(data=campaign_2, x='deposit',ax=ax)\n",
    "plt.title('2 times Campaign', fontsize=20)\n",
    "plt.show()"
   ]
  },
  {
   "cell_type": "code",
   "execution_count": 27,
   "metadata": {},
   "outputs": [
    {
     "data": {
      "image/png": "[encoded data removed]",
      "text/plain": [
       "<Figure size 504x576 with 1 Axes>"
      ]
     },
     "metadata": {},
     "output_type": "display_data"
    }
   ],
   "source": [
    "sns.set(style='darkgrid')\n",
    "fig,ax= plt.subplots(figsize=(7, 8))\n",
    "sns.countplot(data=campaign_3, x='deposit',ax=ax)\n",
    "plt.title('3 times Campaign', fontsize=20)\n",
    "plt.show()"
   ]
  },
  {
   "cell_type": "code",
   "execution_count": 28,
   "metadata": {},
   "outputs": [
    {
     "data": {
      "image/png": "[encoded data removed]",
      "text/plain": [
       "<Figure size 504x576 with 1 Axes>"
      ]
     },
     "metadata": {},
     "output_type": "display_data"
    }
   ],
   "source": [
    "sns.set(style='darkgrid')\n",
    "fig,ax= plt.subplots(figsize=(7, 8))\n",
    "sns.countplot(data=campaign_more_than_4, x='deposit',ax=ax)\n",
    "plt.title('4 or equal 4 times Campaign', fontsize=20)\n",
    "plt.show()"
   ]
  },
  {
   "cell_type": "markdown",
   "metadata": {},
   "source": [
    "#### So by the data the most effective campaigns is do it in 1 time. With a lot conversion rate and most of customers are attracted to deposit."
   ]
  },
  {
   "cell_type": "markdown",
   "metadata": {},
   "source": [
    "Before we conclude our discovery I want to apply with machine learning model to give more insight which is the most important to effective campaign. First thing to do is to convert alphabetical data into numbers with Label Encoder."
   ]
  },
  {
   "cell_type": "code",
   "execution_count": 29,
   "metadata": {},
   "outputs": [
    {
     "name": "stderr",
     "output_type": "stream",
     "text": [
      "<ipython-input-29-f3c4f6572fbe>:3: DeprecationWarning: Converting `np.inexact` or `np.floating` to a dtype is deprecated. The current result is `float64` which is not strictly correct.\n",
      "  if df[column].dtype == np.number: continue\n"
     ]
    }
   ],
   "source": [
    "from sklearn.preprocessing import LabelEncoder\n",
    "for column in df.columns:\n",
    "    if df[column].dtype == np.number: continue\n",
    "   \n",
    "    df[column] = LabelEncoder().fit_transform(df[column])"
   ]
  },
  {
   "cell_type": "code",
   "execution_count": 30,
   "metadata": {},
   "outputs": [
    {
     "data": {
      "text/html": [
       "<div>\n",
       "<style scoped>\n",
       "    .dataframe tbody tr th:only-of-type {\n",
       "        vertical-align: middle;\n",
       "    }\n",
       "\n",
       "    .dataframe tbody tr th {\n",
       "        vertical-align: top;\n",
       "    }\n",
       "\n",
       "    .dataframe thead th {\n",
       "        text-align: right;\n",
       "    }\n",
       "</style>\n",
       "<table border=\"1\" class=\"dataframe\">\n",
       "  <thead>\n",
       "    <tr style=\"text-align: right;\">\n",
       "      <th></th>\n",
       "      <th>age</th>\n",
       "      <th>job</th>\n",
       "      <th>marital</th>\n",
       "      <th>education</th>\n",
       "      <th>default</th>\n",
       "      <th>balance</th>\n",
       "      <th>housing</th>\n",
       "      <th>loan</th>\n",
       "      <th>contact</th>\n",
       "      <th>day</th>\n",
       "      <th>month</th>\n",
       "      <th>duration</th>\n",
       "      <th>campaign</th>\n",
       "      <th>pdays</th>\n",
       "      <th>previous</th>\n",
       "      <th>poutcome</th>\n",
       "      <th>deposit</th>\n",
       "    </tr>\n",
       "  </thead>\n",
       "  <tbody>\n",
       "    <tr>\n",
       "      <th>0</th>\n",
       "      <td>41</td>\n",
       "      <td>0</td>\n",
       "      <td>1</td>\n",
       "      <td>1</td>\n",
       "      <td>0</td>\n",
       "      <td>2288</td>\n",
       "      <td>1</td>\n",
       "      <td>0</td>\n",
       "      <td>2</td>\n",
       "      <td>4</td>\n",
       "      <td>8</td>\n",
       "      <td>1021</td>\n",
       "      <td>0</td>\n",
       "      <td>0</td>\n",
       "      <td>0</td>\n",
       "      <td>3</td>\n",
       "      <td>1</td>\n",
       "    </tr>\n",
       "    <tr>\n",
       "      <th>1</th>\n",
       "      <td>38</td>\n",
       "      <td>0</td>\n",
       "      <td>1</td>\n",
       "      <td>1</td>\n",
       "      <td>0</td>\n",
       "      <td>469</td>\n",
       "      <td>0</td>\n",
       "      <td>0</td>\n",
       "      <td>2</td>\n",
       "      <td>4</td>\n",
       "      <td>8</td>\n",
       "      <td>1283</td>\n",
       "      <td>0</td>\n",
       "      <td>0</td>\n",
       "      <td>0</td>\n",
       "      <td>3</td>\n",
       "      <td>1</td>\n",
       "    </tr>\n",
       "    <tr>\n",
       "      <th>2</th>\n",
       "      <td>23</td>\n",
       "      <td>9</td>\n",
       "      <td>1</td>\n",
       "      <td>1</td>\n",
       "      <td>0</td>\n",
       "      <td>1618</td>\n",
       "      <td>1</td>\n",
       "      <td>0</td>\n",
       "      <td>2</td>\n",
       "      <td>4</td>\n",
       "      <td>8</td>\n",
       "      <td>1246</td>\n",
       "      <td>0</td>\n",
       "      <td>0</td>\n",
       "      <td>0</td>\n",
       "      <td>3</td>\n",
       "      <td>1</td>\n",
       "    </tr>\n",
       "    <tr>\n",
       "      <th>3</th>\n",
       "      <td>37</td>\n",
       "      <td>7</td>\n",
       "      <td>1</td>\n",
       "      <td>1</td>\n",
       "      <td>0</td>\n",
       "      <td>2356</td>\n",
       "      <td>1</td>\n",
       "      <td>0</td>\n",
       "      <td>2</td>\n",
       "      <td>4</td>\n",
       "      <td>8</td>\n",
       "      <td>577</td>\n",
       "      <td>0</td>\n",
       "      <td>0</td>\n",
       "      <td>0</td>\n",
       "      <td>3</td>\n",
       "      <td>1</td>\n",
       "    </tr>\n",
       "    <tr>\n",
       "      <th>4</th>\n",
       "      <td>36</td>\n",
       "      <td>0</td>\n",
       "      <td>1</td>\n",
       "      <td>2</td>\n",
       "      <td>0</td>\n",
       "      <td>608</td>\n",
       "      <td>0</td>\n",
       "      <td>0</td>\n",
       "      <td>2</td>\n",
       "      <td>4</td>\n",
       "      <td>8</td>\n",
       "      <td>671</td>\n",
       "      <td>1</td>\n",
       "      <td>0</td>\n",
       "      <td>0</td>\n",
       "      <td>3</td>\n",
       "      <td>1</td>\n",
       "    </tr>\n",
       "    <tr>\n",
       "      <th>...</th>\n",
       "      <td>...</td>\n",
       "      <td>...</td>\n",
       "      <td>...</td>\n",
       "      <td>...</td>\n",
       "      <td>...</td>\n",
       "      <td>...</td>\n",
       "      <td>...</td>\n",
       "      <td>...</td>\n",
       "      <td>...</td>\n",
       "      <td>...</td>\n",
       "      <td>...</td>\n",
       "      <td>...</td>\n",
       "      <td>...</td>\n",
       "      <td>...</td>\n",
       "      <td>...</td>\n",
       "      <td>...</td>\n",
       "      <td>...</td>\n",
       "    </tr>\n",
       "    <tr>\n",
       "      <th>11157</th>\n",
       "      <td>15</td>\n",
       "      <td>1</td>\n",
       "      <td>2</td>\n",
       "      <td>0</td>\n",
       "      <td>0</td>\n",
       "      <td>425</td>\n",
       "      <td>1</td>\n",
       "      <td>0</td>\n",
       "      <td>0</td>\n",
       "      <td>19</td>\n",
       "      <td>0</td>\n",
       "      <td>255</td>\n",
       "      <td>0</td>\n",
       "      <td>0</td>\n",
       "      <td>0</td>\n",
       "      <td>3</td>\n",
       "      <td>0</td>\n",
       "    </tr>\n",
       "    <tr>\n",
       "      <th>11158</th>\n",
       "      <td>21</td>\n",
       "      <td>7</td>\n",
       "      <td>1</td>\n",
       "      <td>1</td>\n",
       "      <td>0</td>\n",
       "      <td>1149</td>\n",
       "      <td>0</td>\n",
       "      <td>0</td>\n",
       "      <td>2</td>\n",
       "      <td>15</td>\n",
       "      <td>6</td>\n",
       "      <td>81</td>\n",
       "      <td>3</td>\n",
       "      <td>0</td>\n",
       "      <td>0</td>\n",
       "      <td>3</td>\n",
       "      <td>0</td>\n",
       "    </tr>\n",
       "    <tr>\n",
       "      <th>11159</th>\n",
       "      <td>14</td>\n",
       "      <td>9</td>\n",
       "      <td>2</td>\n",
       "      <td>1</td>\n",
       "      <td>0</td>\n",
       "      <td>453</td>\n",
       "      <td>0</td>\n",
       "      <td>0</td>\n",
       "      <td>0</td>\n",
       "      <td>18</td>\n",
       "      <td>1</td>\n",
       "      <td>154</td>\n",
       "      <td>1</td>\n",
       "      <td>0</td>\n",
       "      <td>0</td>\n",
       "      <td>3</td>\n",
       "      <td>0</td>\n",
       "    </tr>\n",
       "    <tr>\n",
       "      <th>11160</th>\n",
       "      <td>25</td>\n",
       "      <td>9</td>\n",
       "      <td>1</td>\n",
       "      <td>1</td>\n",
       "      <td>0</td>\n",
       "      <td>424</td>\n",
       "      <td>0</td>\n",
       "      <td>1</td>\n",
       "      <td>0</td>\n",
       "      <td>7</td>\n",
       "      <td>8</td>\n",
       "      <td>7</td>\n",
       "      <td>1</td>\n",
       "      <td>155</td>\n",
       "      <td>5</td>\n",
       "      <td>0</td>\n",
       "      <td>0</td>\n",
       "    </tr>\n",
       "    <tr>\n",
       "      <th>11161</th>\n",
       "      <td>16</td>\n",
       "      <td>9</td>\n",
       "      <td>1</td>\n",
       "      <td>1</td>\n",
       "      <td>0</td>\n",
       "      <td>424</td>\n",
       "      <td>0</td>\n",
       "      <td>0</td>\n",
       "      <td>0</td>\n",
       "      <td>8</td>\n",
       "      <td>5</td>\n",
       "      <td>626</td>\n",
       "      <td>0</td>\n",
       "      <td>0</td>\n",
       "      <td>0</td>\n",
       "      <td>3</td>\n",
       "      <td>0</td>\n",
       "    </tr>\n",
       "  </tbody>\n",
       "</table>\n",
       "<p>11162 rows × 17 columns</p>\n",
       "</div>"
      ],
      "text/plain": [
       "       age  job  marital  education  default  balance  housing  loan  contact  \\\n",
       "0       41    0        1          1        0     2288        1     0        2   \n",
       "1       38    0        1          1        0      469        0     0        2   \n",
       "2       23    9        1          1        0     1618        1     0        2   \n",
       "3       37    7        1          1        0     2356        1     0        2   \n",
       "4       36    0        1          2        0      608        0     0        2   \n",
       "...    ...  ...      ...        ...      ...      ...      ...   ...      ...   \n",
       "11157   15    1        2          0        0      425        1     0        0   \n",
       "11158   21    7        1          1        0     1149        0     0        2   \n",
       "11159   14    9        2          1        0      453        0     0        0   \n",
       "11160   25    9        1          1        0      424        0     1        0   \n",
       "11161   16    9        1          1        0      424        0     0        0   \n",
       "\n",
       "       day  month  duration  campaign  pdays  previous  poutcome  deposit  \n",
       "0        4      8      1021         0      0         0         3        1  \n",
       "1        4      8      1283         0      0         0         3        1  \n",
       "2        4      8      1246         0      0         0         3        1  \n",
       "3        4      8       577         0      0         0         3        1  \n",
       "4        4      8       671         1      0         0         3        1  \n",
       "...    ...    ...       ...       ...    ...       ...       ...      ...  \n",
       "11157   19      0       255         0      0         0         3        0  \n",
       "11158   15      6        81         3      0         0         3        0  \n",
       "11159   18      1       154         1      0         0         3        0  \n",
       "11160    7      8         7         1    155         5         0        0  \n",
       "11161    8      5       626         0      0         0         3        0  \n",
       "\n",
       "[11162 rows x 17 columns]"
      ]
     },
     "execution_count": 30,
     "metadata": {},
     "output_type": "execute_result"
    }
   ],
   "source": [
    "df"
   ]
  },
  {
   "cell_type": "markdown",
   "metadata": {},
   "source": [
    "#### Seperate between independent and dependent variables."
   ]
  },
  {
   "cell_type": "code",
   "execution_count": 31,
   "metadata": {},
   "outputs": [],
   "source": [
    "from sklearn.model_selection import train_test_split\n",
    "\n",
    "x=df.drop(['deposit'],axis=1)\n",
    "y= df['deposit']\n",
    "\n",
    "x_train, x_test, y_train, y_test = train_test_split(x, y, test_size=0.1, random_state=42)"
   ]
  },
  {
   "cell_type": "markdown",
   "metadata": {},
   "source": [
    "#### We apply which is the best machine learning model. We train and test the model to choose the right model which not overfitting and underfitting."
   ]
  },
  {
   "cell_type": "code",
   "execution_count": 37,
   "metadata": {},
   "outputs": [
    {
     "name": "stdout",
     "output_type": "stream",
     "text": [
      "Random Forest Classifier Train Score: 84 %\n",
      "Random Forest Classifier Test Score: 80 %\n"
     ]
    }
   ],
   "source": [
    "from sklearn.model_selection import cross_val_score\n",
    "from sklearn.ensemble import RandomForestClassifier\n",
    "rf=RandomForestClassifier()\n",
    "rf.fit(x_train,y_train)\n",
    "rf_pred = rf.predict(x_test)\n",
    "\n",
    "score_train = cross_val_score(rf, x_train, y_train, cv=10, scoring=\"accuracy\")\n",
    "score_test = cross_val_score(rf, x_test, y_test, cv=10, scoring=\"accuracy\")\n",
    "\n",
    "\n",
    "print('Random Forest Classifier Train Score:',int(score_train.mean()*100),'%')\n",
    "print('Random Forest Classifier Test Score:',int(score_test.mean()*100),'%')"
   ]
  },
  {
   "cell_type": "code",
   "execution_count": 38,
   "metadata": {},
   "outputs": [
    {
     "name": "stdout",
     "output_type": "stream",
     "text": [
      "Decision Tree Classifier Train Score: 77 %\n",
      "Decision Tree Classifier Test Score: 71 %\n"
     ]
    }
   ],
   "source": [
    "from sklearn.tree import DecisionTreeClassifier\n",
    "dt=DecisionTreeClassifier()\n",
    "dt.fit(x_train, y_train)\n",
    "dt_pred=dt.predict(x_test)\n",
    "\n",
    "score_train = cross_val_score(dt, x_train, y_train, cv=10, scoring=\"accuracy\")\n",
    "score_test = cross_val_score(dt, x_test, y_test, cv=10, scoring=\"accuracy\")\n",
    "\n",
    "\n",
    "print('Decision Tree Classifier Train Score:',int(score_train.mean()*100),'%')\n",
    "print('Decision Tree Classifier Test Score:',int(score_test.mean()*100),'%')"
   ]
  },
  {
   "cell_type": "code",
   "execution_count": 39,
   "metadata": {},
   "outputs": [
    {
     "name": "stdout",
     "output_type": "stream",
     "text": [
      "Extra Trees Classifier Train Score: 84 %\n",
      "Extra Trees Classifier Test Score: 78 %\n"
     ]
    }
   ],
   "source": [
    "from sklearn.ensemble import ExtraTreesClassifier\n",
    "etc = ExtraTreesClassifier()\n",
    "etc.fit(x_train, y_train)\n",
    "etc_pred=etc.predict(x_test)\n",
    "\n",
    "score_train = cross_val_score(etc, x_train, y_train, cv=10, scoring=\"accuracy\")\n",
    "score_test = cross_val_score(etc, x_test, y_test, cv=10, scoring=\"accuracy\")\n",
    "\n",
    "\n",
    "print('Extra Trees Classifier Train Score:',int(score_train.mean()*100),'%')\n",
    "print('Extra Trees Classifier Test Score:',int(score_test.mean()*100),'%')"
   ]
  },
  {
   "cell_type": "code",
   "execution_count": 40,
   "metadata": {},
   "outputs": [
    {
     "name": "stdout",
     "output_type": "stream",
     "text": [
      "Gradient Boosting Classifier Train Score: 84 %\n",
      "Gradient Boosting Classifier Test Score: 79 %\n"
     ]
    }
   ],
   "source": [
    "from sklearn.ensemble import GradientBoostingClassifier\n",
    "gbc = GradientBoostingClassifier()\n",
    "gbc.fit(x_train, y_train)\n",
    "gbc_pred = gbc.predict(x_test)\n",
    "\n",
    "score_train = cross_val_score(gbc, x_train, y_train, cv=10, scoring=\"accuracy\")\n",
    "score_test = cross_val_score(gbc, x_test, y_test, cv=10, scoring=\"accuracy\")\n",
    "\n",
    "\n",
    "print('Gradient Boosting Classifier Train Score:',int(score_train.mean()*100),'%')\n",
    "print('Gradient Boosting Classifier Test Score:',int(score_test.mean()*100),'%')"
   ]
  },
  {
   "cell_type": "markdown",
   "metadata": {},
   "source": [
    "#### So after I train and test the model I choose Random Forest Classifier as the right model because the accuracy is high between train and test. And realtivley has the same balance accuracy between both of it. After applying machine learning model I want to put feature importance to get the most important in the campaign."
   ]
  },
  {
   "cell_type": "markdown",
   "metadata": {},
   "source": [
    "#### I put it in graph explain what I find. And here it is."
   ]
  },
  {
   "cell_type": "code",
   "execution_count": 42,
   "metadata": {},
   "outputs": [
    {
     "data": {
      "image/png": "[encoded data removed]",
      "text/plain": [
       "<Figure size 432x288 with 1 Axes>"
      ]
     },
     "metadata": {},
     "output_type": "display_data"
    }
   ],
   "source": [
    "fi= pd.Series(rf.feature_importances_,index=x.columns)\n",
    "fi.sort_values(ascending=True).plot(kind='barh')\n",
    "plt.show()"
   ]
  },
  {
   "cell_type": "markdown",
   "metadata": {},
   "source": [
    "#### We can see duration of phone-calling is the essential part of effective marketing with the high number of importance score. It's based with our EDA when we phone call more than 500 second, conversion rate is higher it's 4.6 which is really effective."
   ]
  },
  {
   "cell_type": "markdown",
   "metadata": {},
   "source": [
    "\n",
    "\n",
    "# Conclusion"
   ]
  },
  {
   "cell_type": "markdown",
   "metadata": {},
   "source": [
    "1. Duration of phone-calling is the most essential to effective marketing campaign especially when we want to boost conversion rate(more than 500 second is mandatory).\n",
    "\n",
    "2. It's good to attract more customer but high conversion rate make more efficient marketing especially when we find out a lot customer by their characteristic such as management by job,married marital status,secondary education, no default, no loan ,using cellular phone ,unknown result by previous campaign, and in month of May. These characteristic has a lot of volume of customer but has a so so and low conversion rate, so if we can attract them by these charactersitic with much longer duration of phone calling we can make optimum result to make them deposit. (Of course don't forget the rest of characteristic)\n",
    "\n",
    "3. 1 time campaign much effective rather than more than 1."
   ]
  },
  {
   "cell_type": "markdown",
   "metadata": {},
   "source": [
    "# Thank You!"
   ]
  }
 ],
 "metadata": {
  "kernelspec": {
   "display_name": "Python 3",
   "language": "python",
   "name": "python3"
  },
  "language_info": {
   "codemirror_mode": {
    "name": "ipython",
    "version": 3
   },
   "file_extension": ".py",
   "mimetype": "text/x-python",
   "name": "python",
   "nbconvert_exporter": "python",
   "pygments_lexer": "ipython3",
   "version": "3.8.3"
  }
 },
 "nbformat": 4,
 "nbformat_minor": 4
}
